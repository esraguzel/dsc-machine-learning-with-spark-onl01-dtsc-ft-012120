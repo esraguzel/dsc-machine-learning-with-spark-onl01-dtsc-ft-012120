{
  "nbformat": 4,
  "nbformat_minor": 0,
  "metadata": {
    "kernelspec": {
      "display_name": "Python 3",
      "language": "python",
      "name": "python3"
    },
    "language_info": {
      "codemirror_mode": {
        "name": "ipython",
        "version": 3
      },
      "file_extension": ".py",
      "mimetype": "text/x-python",
      "name": "python",
      "nbconvert_exporter": "python",
      "pygments_lexer": "ipython3",
      "version": "3.7.3"
    },
    "colab": {
      "name": "index.ipynb",
      "provenance": [],
      "toc_visible": true,
      "include_colab_link": true
    }
  },
  "cells": [
    {
      "cell_type": "markdown",
      "metadata": {
        "id": "view-in-github",
        "colab_type": "text"
      },
      "source": [
        "<a href=\"https://colab.research.google.com/github/esraguzel/dsc-machine-learning-with-spark-onl01-dtsc-ft-012120/blob/master/index.ipynb\" target=\"_parent\"><img src=\"https://colab.research.google.com/assets/colab-badge.svg\" alt=\"Open In Colab\"/></a>"
      ]
    },
    {
      "cell_type": "markdown",
      "metadata": {
        "id": "proXefKUwUCk",
        "colab_type": "text"
      },
      "source": [
        "# Machine Learning with Spark\n",
        "\n",
        "## Introduction\n",
        "\n",
        "You've now explored how to perform operations on Spark RDDs for simple MapReduce tasks. Luckily, there are far more advanced use cases for Spark, and many of them are found in the `ml` library, which we are going to explore in this lesson.\n",
        "\n",
        "\n",
        "## Objectives\n",
        "\n",
        "You will be able to: \n",
        "\n",
        "- Load and manipulate data using Spark DataFrames  \n",
        "- Define estimators and transformers in Spark ML \n",
        "- Create a Spark ML pipeline that transforms data and runs over a grid of hyperparameters \n",
        "\n",
        "\n",
        "\n",
        "## A Tale of Two Libraries\n",
        "\n",
        "If you look at the PySpark documentation, you'll notice that there are two different libraries for machine learning, [mllib](https://spark.apache.org/docs/latest/api/python/pyspark.mllib.html) and [ml](https://spark.apache.org/docs/latest/api/python/pyspark.ml.html). These libraries are extremely similar to one another, the only difference being that the `mllib` library is built upon the RDDs you just practiced using; whereas, the `ml` library is built on higher level Spark DataFrames, which has methods and attributes similar to pandas. Spark has stated that in the future, it is going to devote more effort to the `ml` library and that `mllib` will become deprecated. It's important to note that these libraries are much younger than pandas and scikit-learn and there are not as many features present in either.\n",
        "\n",
        "## Spark DataFrames\n",
        "\n",
        "In the previous lessons, you were introduced to SparkContext as the primary way to connect with a Spark Application. Here, we will be using SparkSession, which is from the [sql](https://spark.apache.org/docs/latest/api/python/pyspark.sql.html) component of PySpark. The SparkSession acts the same way as SparkContext; it is a bridge between Python and the Spark Application. It's just built on top of the Spark SQL API, a higher-level API than RDDs. In fact, a SparkContext object is spun up around which the SparkSession object is wrapped. Let's go through the process of manipulating some data here. For this example, we're going to be using the [Forest Fire dataset](https://archive.ics.uci.edu/ml/datasets/Forest+Fires) from UCI, which contains data about the area burned by wildfires in the Northeast region of Portugal in relation to numerous other factors.\n",
        "\n",
        "To begin with, let's create a SparkSession so that we can spin up our spark application. "
      ]
    },
    {
      "cell_type": "code",
      "metadata": {
        "id": "S23uataIwWRd",
        "colab_type": "code",
        "colab": {}
      },
      "source": [
        "!apt-get install openjdk-8-jdk-headless -qq > /dev/null\n",
        "!wget -q https://downloads.apache.org/spark/spark-2.4.5/spark-2.4.5-bin-hadoop2.7.tgz\n",
        "!tar xf spark-2.4.5-bin-hadoop2.7.tgz\n",
        "!pip install -q findspark"
      ],
      "execution_count": 0,
      "outputs": []
    },
    {
      "cell_type": "code",
      "metadata": {
        "id": "pdCjmilowWcV",
        "colab_type": "code",
        "colab": {}
      },
      "source": [
        "import os\n",
        "os.environ[\"JAVA_HOME\"] = \"/usr/lib/jvm/java-8-openjdk-amd64\"\n",
        "os.environ[\"SPARK_HOME\"] = \"/content/spark-2.4.5-bin-hadoop2.7\""
      ],
      "execution_count": 0,
      "outputs": []
    },
    {
      "cell_type": "code",
      "metadata": {
        "id": "nb2jCH0nwW0b",
        "colab_type": "code",
        "colab": {
          "base_uri": "https://localhost:8080/",
          "height": 238
        },
        "outputId": "8ba0f028-54e3-49cf-cce4-fff4ae8a66ea"
      },
      "source": [
        "!pip install pyspark"
      ],
      "execution_count": 3,
      "outputs": [
        {
          "output_type": "stream",
          "text": [
            "Collecting pyspark\n",
            "\u001b[?25l  Downloading https://files.pythonhosted.org/packages/9a/5a/271c416c1c2185b6cb0151b29a91fff6fcaed80173c8584ff6d20e46b465/pyspark-2.4.5.tar.gz (217.8MB)\n",
            "\u001b[K     |████████████████████████████████| 217.8MB 60kB/s \n",
            "\u001b[?25hCollecting py4j==0.10.7\n",
            "\u001b[?25l  Downloading https://files.pythonhosted.org/packages/e3/53/c737818eb9a7dc32a7cd4f1396e787bd94200c3997c72c1dbe028587bd76/py4j-0.10.7-py2.py3-none-any.whl (197kB)\n",
            "\u001b[K     |████████████████████████████████| 204kB 28.4MB/s \n",
            "\u001b[?25hBuilding wheels for collected packages: pyspark\n",
            "  Building wheel for pyspark (setup.py) ... \u001b[?25l\u001b[?25hdone\n",
            "  Created wheel for pyspark: filename=pyspark-2.4.5-py2.py3-none-any.whl size=218257927 sha256=bf0d9cdfdd4f4c28d5ec424180be87861780772feacb5026ea7c9ec967b8e044\n",
            "  Stored in directory: /root/.cache/pip/wheels/bf/db/04/61d66a5939364e756eb1c1be4ec5bdce6e04047fc7929a3c3c\n",
            "Successfully built pyspark\n",
            "Installing collected packages: py4j, pyspark\n",
            "Successfully installed py4j-0.10.7 pyspark-2.4.5\n"
          ],
          "name": "stdout"
        }
      ]
    },
    {
      "cell_type": "code",
      "metadata": {
        "id": "UFy_nOvIwUCl",
        "colab_type": "code",
        "colab": {}
      },
      "source": [
        "# importing the necessary libraries\n",
        "from pyspark import SparkContext\n",
        "from pyspark.sql import SparkSession\n",
        "# sc = SparkContext('local[*]')\n",
        "# spark = SparkSession(sc)"
      ],
      "execution_count": 0,
      "outputs": []
    },
    {
      "cell_type": "markdown",
      "metadata": {
        "id": "pvISGVZ9wUCp",
        "colab_type": "text"
      },
      "source": [
        "To create a SparkSession: "
      ]
    },
    {
      "cell_type": "code",
      "metadata": {
        "id": "NFj8OZPPwUCp",
        "colab_type": "code",
        "colab": {}
      },
      "source": [
        "spark = SparkSession.builder.master('local').getOrCreate()"
      ],
      "execution_count": 0,
      "outputs": []
    },
    {
      "cell_type": "markdown",
      "metadata": {
        "id": "CgHB4j4MwUCs",
        "colab_type": "text"
      },
      "source": [
        "Now, we'll load the data into a PySpark DataFrame: "
      ]
    },
    {
      "cell_type": "code",
      "metadata": {
        "id": "8w1oQ8owwUCt",
        "colab_type": "code",
        "colab": {
          "base_uri": "https://localhost:8080/",
          "height": 34
        },
        "outputId": "eeb35a4e-236f-4577-fead-058fc49e3264"
      },
      "source": [
        "## reading in pyspark df\n",
        "spark_df = spark.read.csv('./forestfires.csv', header='true', inferSchema='true')\n",
        "\n",
        "## observing the datatype of df\n",
        "type(spark_df)"
      ],
      "execution_count": 6,
      "outputs": [
        {
          "output_type": "execute_result",
          "data": {
            "text/plain": [
              "pyspark.sql.dataframe.DataFrame"
            ]
          },
          "metadata": {
            "tags": []
          },
          "execution_count": 6
        }
      ]
    },
    {
      "cell_type": "markdown",
      "metadata": {
        "id": "QzNSPqT8wUCw",
        "colab_type": "text"
      },
      "source": [
        "You'll notice that some of the methods are extremely similar or the same as those found within Pandas."
      ]
    },
    {
      "cell_type": "code",
      "metadata": {
        "id": "0Ctz3olJwUCw",
        "colab_type": "code",
        "colab": {
          "base_uri": "https://localhost:8080/",
          "height": 187
        },
        "outputId": "af26b347-b56b-4f7a-936a-619b9ca5a1df"
      },
      "source": [
        "spark_df.head(10)"
      ],
      "execution_count": 8,
      "outputs": [
        {
          "output_type": "execute_result",
          "data": {
            "text/plain": [
              "[Row(X=7, Y=5, month='mar', day='fri', FFMC=86.2, DMC=26.2, DC=94.3, ISI=5.1, temp=8.2, RH=51, wind=6.7, rain=0.0, area=0.0),\n",
              " Row(X=7, Y=4, month='oct', day='tue', FFMC=90.6, DMC=35.4, DC=669.1, ISI=6.7, temp=18.0, RH=33, wind=0.9, rain=0.0, area=0.0),\n",
              " Row(X=7, Y=4, month='oct', day='sat', FFMC=90.6, DMC=43.7, DC=686.9, ISI=6.7, temp=14.6, RH=33, wind=1.3, rain=0.0, area=0.0),\n",
              " Row(X=8, Y=6, month='mar', day='fri', FFMC=91.7, DMC=33.3, DC=77.5, ISI=9.0, temp=8.3, RH=97, wind=4.0, rain=0.2, area=0.0),\n",
              " Row(X=8, Y=6, month='mar', day='sun', FFMC=89.3, DMC=51.3, DC=102.2, ISI=9.6, temp=11.4, RH=99, wind=1.8, rain=0.0, area=0.0),\n",
              " Row(X=8, Y=6, month='aug', day='sun', FFMC=92.3, DMC=85.3, DC=488.0, ISI=14.7, temp=22.2, RH=29, wind=5.4, rain=0.0, area=0.0),\n",
              " Row(X=8, Y=6, month='aug', day='mon', FFMC=92.3, DMC=88.9, DC=495.6, ISI=8.5, temp=24.1, RH=27, wind=3.1, rain=0.0, area=0.0),\n",
              " Row(X=8, Y=6, month='aug', day='mon', FFMC=91.5, DMC=145.4, DC=608.2, ISI=10.7, temp=8.0, RH=86, wind=2.2, rain=0.0, area=0.0),\n",
              " Row(X=8, Y=6, month='sep', day='tue', FFMC=91.0, DMC=129.5, DC=692.6, ISI=7.0, temp=13.1, RH=63, wind=5.4, rain=0.0, area=0.0),\n",
              " Row(X=7, Y=5, month='sep', day='sat', FFMC=92.5, DMC=88.0, DC=698.6, ISI=7.1, temp=22.8, RH=40, wind=4.0, rain=0.0, area=0.0)]"
            ]
          },
          "metadata": {
            "tags": []
          },
          "execution_count": 8
        }
      ]
    },
    {
      "cell_type": "code",
      "metadata": {
        "id": "1XUaDsfQwUCy",
        "colab_type": "code",
        "colab": {
          "base_uri": "https://localhost:8080/",
          "height": 238
        },
        "outputId": "de9ad4b0-bceb-4d57-ddd3-739024a8727f"
      },
      "source": [
        "spark_df.columns"
      ],
      "execution_count": 9,
      "outputs": [
        {
          "output_type": "execute_result",
          "data": {
            "text/plain": [
              "['X',\n",
              " 'Y',\n",
              " 'month',\n",
              " 'day',\n",
              " 'FFMC',\n",
              " 'DMC',\n",
              " 'DC',\n",
              " 'ISI',\n",
              " 'temp',\n",
              " 'RH',\n",
              " 'wind',\n",
              " 'rain',\n",
              " 'area']"
            ]
          },
          "metadata": {
            "tags": []
          },
          "execution_count": 9
        }
      ]
    },
    {
      "cell_type": "markdown",
      "metadata": {
        "id": "VJbRIEspwUC1",
        "colab_type": "text"
      },
      "source": [
        "Selecting multiple columns is similar as well: "
      ]
    },
    {
      "cell_type": "code",
      "metadata": {
        "id": "2I2VXHmHwUC1",
        "colab_type": "code",
        "colab": {
          "base_uri": "https://localhost:8080/",
          "height": 34
        },
        "outputId": "7e27fd8e-8a0d-4a40-b975-6ee5f7b0ac86"
      },
      "source": [
        "spark_df[['month','day','rain']]"
      ],
      "execution_count": 10,
      "outputs": [
        {
          "output_type": "execute_result",
          "data": {
            "text/plain": [
              "DataFrame[month: string, day: string, rain: double]"
            ]
          },
          "metadata": {
            "tags": []
          },
          "execution_count": 10
        }
      ]
    },
    {
      "cell_type": "markdown",
      "metadata": {
        "id": "kpDgR1yHwUC4",
        "colab_type": "text"
      },
      "source": [
        "But selecting one column is different. If you want to maintain the methods of a spark DataFrame, you should use the `.select()` method. If you want to just select the column, you can use the same method you would use in pandas (this is primarily what you would use if you're attempting to create a boolean mask). "
      ]
    },
    {
      "cell_type": "code",
      "metadata": {
        "scrolled": true,
        "id": "o_Mg31_YwUC5",
        "colab_type": "code",
        "colab": {}
      },
      "source": [
        "d = spark_df.select('rain')"
      ],
      "execution_count": 0,
      "outputs": []
    },
    {
      "cell_type": "code",
      "metadata": {
        "id": "bYXOjMOtwUC7",
        "colab_type": "code",
        "colab": {
          "base_uri": "https://localhost:8080/",
          "height": 34
        },
        "outputId": "989f0fc4-2bd5-42f1-a7b0-7df3d85d3e78"
      },
      "source": [
        "spark_df['rain']"
      ],
      "execution_count": 12,
      "outputs": [
        {
          "output_type": "execute_result",
          "data": {
            "text/plain": [
              "Column<b'rain'>"
            ]
          },
          "metadata": {
            "tags": []
          },
          "execution_count": 12
        }
      ]
    },
    {
      "cell_type": "markdown",
      "metadata": {
        "id": "gA7dSQiTwUC-",
        "colab_type": "text"
      },
      "source": [
        "Let's take a look at all of our data types in this dataframe"
      ]
    },
    {
      "cell_type": "code",
      "metadata": {
        "id": "e69MubTKwUC-",
        "colab_type": "code",
        "colab": {
          "base_uri": "https://localhost:8080/",
          "height": 238
        },
        "outputId": "741a27eb-d3c2-40c4-bb9e-db71d485fb1a"
      },
      "source": [
        "spark_df.dtypes"
      ],
      "execution_count": 13,
      "outputs": [
        {
          "output_type": "execute_result",
          "data": {
            "text/plain": [
              "[('X', 'int'),\n",
              " ('Y', 'int'),\n",
              " ('month', 'string'),\n",
              " ('day', 'string'),\n",
              " ('FFMC', 'double'),\n",
              " ('DMC', 'double'),\n",
              " ('DC', 'double'),\n",
              " ('ISI', 'double'),\n",
              " ('temp', 'double'),\n",
              " ('RH', 'int'),\n",
              " ('wind', 'double'),\n",
              " ('rain', 'double'),\n",
              " ('area', 'double')]"
            ]
          },
          "metadata": {
            "tags": []
          },
          "execution_count": 13
        }
      ]
    },
    {
      "cell_type": "markdown",
      "metadata": {
        "id": "twW50J83wUDA",
        "colab_type": "text"
      },
      "source": [
        "## Aggregations with our DataFrame"
      ]
    },
    {
      "cell_type": "markdown",
      "metadata": {
        "id": "3RYxWKOPwUDB",
        "colab_type": "text"
      },
      "source": [
        "Let's investigate to see if there is any correlation between what month it is and the area of fire: "
      ]
    },
    {
      "cell_type": "code",
      "metadata": {
        "id": "xn_0hYZXwUDC",
        "colab_type": "code",
        "colab": {
          "base_uri": "https://localhost:8080/",
          "height": 34
        },
        "outputId": "2e67f935-5e8f-471c-a688-191b2e7d790d"
      },
      "source": [
        "spark_df_months = spark_df.groupBy('month').agg({'area': 'mean'})\n",
        "spark_df_months"
      ],
      "execution_count": 14,
      "outputs": [
        {
          "output_type": "execute_result",
          "data": {
            "text/plain": [
              "DataFrame[month: string, avg(area): double]"
            ]
          },
          "metadata": {
            "tags": []
          },
          "execution_count": 14
        }
      ]
    },
    {
      "cell_type": "markdown",
      "metadata": {
        "id": "zZeGoWgywUDE",
        "colab_type": "text"
      },
      "source": [
        "Notice how the grouped DataFrame is not returned when you call the aggregation method. Remember, this is still Spark! The transformations and actions are kept separate so that it is easier to manage large quantities of data. You can perform the transformation by calling `.collect()`: "
      ]
    },
    {
      "cell_type": "code",
      "metadata": {
        "id": "94_q8fP3wUDE",
        "colab_type": "code",
        "colab": {
          "base_uri": "https://localhost:8080/",
          "height": 221
        },
        "outputId": "4d5f4d59-f1ba-49d5-dac0-271970314a4f"
      },
      "source": [
        "spark_df_months.collect()"
      ],
      "execution_count": 15,
      "outputs": [
        {
          "output_type": "execute_result",
          "data": {
            "text/plain": [
              "[Row(month='jun', avg(area)=5.841176470588234),\n",
              " Row(month='aug', avg(area)=12.489076086956521),\n",
              " Row(month='may', avg(area)=19.24),\n",
              " Row(month='feb', avg(area)=6.275),\n",
              " Row(month='sep', avg(area)=17.942616279069753),\n",
              " Row(month='mar', avg(area)=4.356666666666667),\n",
              " Row(month='oct', avg(area)=6.638),\n",
              " Row(month='jul', avg(area)=14.3696875),\n",
              " Row(month='nov', avg(area)=0.0),\n",
              " Row(month='apr', avg(area)=8.891111111111112),\n",
              " Row(month='dec', avg(area)=13.33),\n",
              " Row(month='jan', avg(area)=0.0)]"
            ]
          },
          "metadata": {
            "tags": []
          },
          "execution_count": 15
        }
      ]
    },
    {
      "cell_type": "markdown",
      "metadata": {
        "id": "uQwIz9tgwUDG",
        "colab_type": "text"
      },
      "source": [
        "As you can see, there seem to be larger area fires during what would be considered the summer months in Portugal. On your own, practice more aggregations and manipulations that you might be able to perform on this dataset. "
      ]
    },
    {
      "cell_type": "markdown",
      "metadata": {
        "id": "kAadAygywUDH",
        "colab_type": "text"
      },
      "source": [
        "## Boolean Masking \n",
        "\n",
        "Boolean masking also works with PySpark DataFrames just like Pandas DataFrames, the only difference being that the `.filter()` method is used in PySpark. To try this out, let's compare the amount of fire in those areas with absolutely no rain to those areas that had rain."
      ]
    },
    {
      "cell_type": "code",
      "metadata": {
        "id": "qkCFyMXzwUDH",
        "colab_type": "code",
        "colab": {}
      },
      "source": [
        "no_rain = spark_df.filter(spark_df['rain'] == 0.0)\n",
        "some_rain = spark_df.filter(spark_df['rain'] > 0.0)"
      ],
      "execution_count": 0,
      "outputs": []
    },
    {
      "cell_type": "markdown",
      "metadata": {
        "id": "vSKedCKbwUDJ",
        "colab_type": "text"
      },
      "source": [
        "Now, to perform calculations to find the mean of a column, we'll have to import functions from `pyspark.sql`. As always, to read more about them, check out the [documentation](https://spark.apache.org/docs/latest/api/python/pyspark.sql.html#module-pyspark.sql.functions)."
      ]
    },
    {
      "cell_type": "code",
      "metadata": {
        "id": "_59A63ZxwUDK",
        "colab_type": "code",
        "colab": {
          "base_uri": "https://localhost:8080/",
          "height": 289
        },
        "outputId": "5352bba3-6ba6-49b1-f3c4-3c8c0e4eeca7"
      },
      "source": [
        "from pyspark.sql.functions import mean\n",
        "\n",
        "print('no rain fire area: ', no_rain.select(mean('area')).show(),'\\n')\n",
        "\n",
        "print('some rain fire area: ', some_rain.select(mean('area')).show(),'\\n')"
      ],
      "execution_count": 17,
      "outputs": [
        {
          "output_type": "stream",
          "text": [
            "+------------------+\n",
            "|         avg(area)|\n",
            "+------------------+\n",
            "|13.023693516699408|\n",
            "+------------------+\n",
            "\n",
            "no rain fire area:  None \n",
            "\n",
            "+---------+\n",
            "|avg(area)|\n",
            "+---------+\n",
            "|  1.62375|\n",
            "+---------+\n",
            "\n",
            "some rain fire area:  None \n",
            "\n"
          ],
          "name": "stdout"
        }
      ]
    },
    {
      "cell_type": "markdown",
      "metadata": {
        "id": "3wbVJTyTwUDO",
        "colab_type": "text"
      },
      "source": [
        "Yes there's definitely something there! Unsurprisingly, rain plays in a big factor in the spread of wildfire.\n",
        "\n",
        "Let's obtain data from only the summer months in Portugal (June, July, and August). We can also do the same for the winter months in Portugal (December, January, February)."
      ]
    },
    {
      "cell_type": "code",
      "metadata": {
        "id": "ozsTQTnUwUDO",
        "colab_type": "code",
        "colab": {
          "base_uri": "https://localhost:8080/",
          "height": 255
        },
        "outputId": "837d2682-30ea-4b45-84e8-86034d339b13"
      },
      "source": [
        "summer_months = spark_df.filter(spark_df['month'].isin(['jun','jul','aug']))\n",
        "winter_months = spark_df.filter(spark_df['month'].isin(['dec','jan','feb']))\n",
        "\n",
        "print('summer months fire area', summer_months.select(mean('area')).show())\n",
        "print('winter months fire areas', winter_months.select(mean('area')).show())"
      ],
      "execution_count": 18,
      "outputs": [
        {
          "output_type": "stream",
          "text": [
            "+------------------+\n",
            "|         avg(area)|\n",
            "+------------------+\n",
            "|12.262317596566525|\n",
            "+------------------+\n",
            "\n",
            "summer months fire area None\n",
            "+-----------------+\n",
            "|        avg(area)|\n",
            "+-----------------+\n",
            "|7.918387096774193|\n",
            "+-----------------+\n",
            "\n",
            "winter months fire areas None\n"
          ],
          "name": "stdout"
        }
      ]
    },
    {
      "cell_type": "markdown",
      "metadata": {
        "id": "SE218_XiwUDR",
        "colab_type": "text"
      },
      "source": [
        "## Machine Learning\n",
        "\n",
        "Now that we've performed some data manipulation and aggregation, lets get to the really cool stuff, machine learning! PySpark states that they've used scikit-learn as an inspiration for their implementation of a machine learning library. As a result, many of the methods and functionalities look similar, but there are some crucial distinctions. There are three main concepts found within the ML library:\n",
        "\n",
        "`Transformer`: An algorithm that transforms one PySpark DataFrame into another DataFrame. \n",
        "\n",
        "`Estimator`: An algorithm that can be fit onto a PySpark DataFrame that can then be used as a Transformer. \n",
        "\n",
        "`Pipeline`: A pipeline very similar to an `sklearn` pipeline that chains together different actions.\n",
        "\n",
        "The reasoning behind this separation of the fitting and transforming step is because Spark is lazily evaluated, so the 'fitting' of a model does not actually take place until the Transformation action is called. Let's examine what this actually looks like by performing a regression on the Forest Fire dataset. To start off with, we'll import the necessary libraries for our tasks."
      ]
    },
    {
      "cell_type": "code",
      "metadata": {
        "id": "9LDVkPV_wUDR",
        "colab_type": "code",
        "colab": {}
      },
      "source": [
        "from pyspark.ml.regression import RandomForestRegressor\n",
        "from pyspark.ml import feature\n",
        "from pyspark.ml.feature import StringIndexer, VectorAssembler, OneHotEncoderEstimator"
      ],
      "execution_count": 0,
      "outputs": []
    },
    {
      "cell_type": "markdown",
      "metadata": {
        "id": "me7WTW9TwUDU",
        "colab_type": "text"
      },
      "source": [
        "Looking at our data, one can see that all the categories are numerical except for day and month. We saw some correlation between the month and area burned in a fire, so we will include that in our model. The day of the week, however, is highly unlikely to have any effect on fire, so we will drop it from the DataFrame."
      ]
    },
    {
      "cell_type": "code",
      "metadata": {
        "id": "nWVcjNRXwUDU",
        "colab_type": "code",
        "colab": {
          "base_uri": "https://localhost:8080/",
          "height": 34
        },
        "outputId": "8cea8635-f2b0-4453-cd1a-5e7342f15d50"
      },
      "source": [
        "fire_df = spark_df.drop('day')\n",
        "fire_df.head()"
      ],
      "execution_count": 20,
      "outputs": [
        {
          "output_type": "execute_result",
          "data": {
            "text/plain": [
              "Row(X=7, Y=5, month='mar', FFMC=86.2, DMC=26.2, DC=94.3, ISI=5.1, temp=8.2, RH=51, wind=6.7, rain=0.0, area=0.0)"
            ]
          },
          "metadata": {
            "tags": []
          },
          "execution_count": 20
        }
      ]
    },
    {
      "cell_type": "markdown",
      "metadata": {
        "id": "0c4vdJw5wUDW",
        "colab_type": "text"
      },
      "source": [
        "In order for us to run our model, we need to turn the months variable into a dummy variable. In `ml` this is a 2-step process that first requires turning the categorical variable into a numerical index (`StringIndexer`). Only after the variable is an integer can PySpark create dummy variable columns related to each category (`OneHotEncoderEstimator`). Your key parameters when using these `ml` estimators are: `inputCol` (the column you want to change) and `outputCol` (where you will store the changed column). Here it is in action: "
      ]
    },
    {
      "cell_type": "code",
      "metadata": {
        "id": "dRFgbcBqwUDX",
        "colab_type": "code",
        "colab": {}
      },
      "source": [
        "si = StringIndexer(inputCol='month', outputCol='month_num')\n",
        "model = si.fit(fire_df)\n",
        "new_df = model.transform(fire_df)"
      ],
      "execution_count": 0,
      "outputs": []
    },
    {
      "cell_type": "markdown",
      "metadata": {
        "id": "MuIJADYpwUDY",
        "colab_type": "text"
      },
      "source": [
        "Note the small, but critical distinction between `sklearn`'s implementation of a transformer and PySpark's implementation. `sklearn` is more object oriented and Spark is more functional oriented."
      ]
    },
    {
      "cell_type": "code",
      "metadata": {
        "id": "k9ZAZjxNwUDZ",
        "colab_type": "code",
        "colab": {
          "base_uri": "https://localhost:8080/",
          "height": 34
        },
        "outputId": "7d890361-093f-4115-e295-b8bab32f0a0c"
      },
      "source": [
        "## this is an estimator (an untrained transformer)\n",
        "type(si)"
      ],
      "execution_count": 22,
      "outputs": [
        {
          "output_type": "execute_result",
          "data": {
            "text/plain": [
              "pyspark.ml.feature.StringIndexer"
            ]
          },
          "metadata": {
            "tags": []
          },
          "execution_count": 22
        }
      ]
    },
    {
      "cell_type": "code",
      "metadata": {
        "id": "errJVfzIwUDb",
        "colab_type": "code",
        "colab": {
          "base_uri": "https://localhost:8080/",
          "height": 34
        },
        "outputId": "a6d8c4d4-23fd-4a3a-9cc6-104aec1a26c2"
      },
      "source": [
        "## this is a transformer (a trained transformer)\n",
        "type(model)"
      ],
      "execution_count": 23,
      "outputs": [
        {
          "output_type": "execute_result",
          "data": {
            "text/plain": [
              "pyspark.ml.feature.StringIndexerModel"
            ]
          },
          "metadata": {
            "tags": []
          },
          "execution_count": 23
        }
      ]
    },
    {
      "cell_type": "code",
      "metadata": {
        "id": "aQmPx9fkwUDd",
        "colab_type": "code",
        "colab": {
          "base_uri": "https://localhost:8080/",
          "height": 221
        },
        "outputId": "6d256134-a9a2-4411-a23a-488bbd4bbfd8"
      },
      "source": [
        "model.labels"
      ],
      "execution_count": 24,
      "outputs": [
        {
          "output_type": "execute_result",
          "data": {
            "text/plain": [
              "['aug',\n",
              " 'sep',\n",
              " 'mar',\n",
              " 'jul',\n",
              " 'feb',\n",
              " 'jun',\n",
              " 'oct',\n",
              " 'apr',\n",
              " 'dec',\n",
              " 'jan',\n",
              " 'may',\n",
              " 'nov']"
            ]
          },
          "metadata": {
            "tags": []
          },
          "execution_count": 24
        }
      ]
    },
    {
      "cell_type": "code",
      "metadata": {
        "id": "5vjtI828wUDf",
        "colab_type": "code",
        "colab": {
          "base_uri": "https://localhost:8080/",
          "height": 85
        },
        "outputId": "134f32b9-377c-4e18-8766-132601cbd6d3"
      },
      "source": [
        "new_df.head(4)"
      ],
      "execution_count": 25,
      "outputs": [
        {
          "output_type": "execute_result",
          "data": {
            "text/plain": [
              "[Row(X=7, Y=5, month='mar', FFMC=86.2, DMC=26.2, DC=94.3, ISI=5.1, temp=8.2, RH=51, wind=6.7, rain=0.0, area=0.0, month_num=2.0),\n",
              " Row(X=7, Y=4, month='oct', FFMC=90.6, DMC=35.4, DC=669.1, ISI=6.7, temp=18.0, RH=33, wind=0.9, rain=0.0, area=0.0, month_num=6.0),\n",
              " Row(X=7, Y=4, month='oct', FFMC=90.6, DMC=43.7, DC=686.9, ISI=6.7, temp=14.6, RH=33, wind=1.3, rain=0.0, area=0.0, month_num=6.0),\n",
              " Row(X=8, Y=6, month='mar', FFMC=91.7, DMC=33.3, DC=77.5, ISI=9.0, temp=8.3, RH=97, wind=4.0, rain=0.2, area=0.0, month_num=2.0)]"
            ]
          },
          "metadata": {
            "tags": []
          },
          "execution_count": 25
        }
      ]
    },
    {
      "cell_type": "markdown",
      "metadata": {
        "id": "ounoXF3KwUDh",
        "colab_type": "text"
      },
      "source": [
        "As you can see, we have created a new column called `'month_num'` that represents the month by a number. Now that we have performed this step, we can use Spark's version of `OneHotEncoder()` - `OneHotEncoderEstimator()`. Let's make sure we have an accurate representation of the months."
      ]
    },
    {
      "cell_type": "code",
      "metadata": {
        "id": "l3kMjV1EwUDi",
        "colab_type": "code",
        "colab": {
          "base_uri": "https://localhost:8080/",
          "height": 221
        },
        "outputId": "743a0340-ddec-42d4-eaec-c55e8bddb23b"
      },
      "source": [
        "new_df.select('month_num').distinct().collect()"
      ],
      "execution_count": 26,
      "outputs": [
        {
          "output_type": "execute_result",
          "data": {
            "text/plain": [
              "[Row(month_num=8.0),\n",
              " Row(month_num=0.0),\n",
              " Row(month_num=7.0),\n",
              " Row(month_num=1.0),\n",
              " Row(month_num=4.0),\n",
              " Row(month_num=11.0),\n",
              " Row(month_num=3.0),\n",
              " Row(month_num=2.0),\n",
              " Row(month_num=10.0),\n",
              " Row(month_num=6.0),\n",
              " Row(month_num=5.0),\n",
              " Row(month_num=9.0)]"
            ]
          },
          "metadata": {
            "tags": []
          },
          "execution_count": 26
        }
      ]
    },
    {
      "cell_type": "code",
      "metadata": {
        "id": "qfcbsVcBwUDk",
        "colab_type": "code",
        "colab": {
          "base_uri": "https://localhost:8080/",
          "height": 34
        },
        "outputId": "00508ccf-7ccc-4f30-f508-97b75a1b4c4b"
      },
      "source": [
        "## fitting and transforming the OneHotEncoderEstimator\n",
        "ohe = feature.OneHotEncoderEstimator(inputCols=['month_num'], outputCols=['month_vec'], dropLast=True)\n",
        "one_hot_encoded = ohe.fit(new_df).transform(new_df)\n",
        "one_hot_encoded.head()"
      ],
      "execution_count": 27,
      "outputs": [
        {
          "output_type": "execute_result",
          "data": {
            "text/plain": [
              "Row(X=7, Y=5, month='mar', FFMC=86.2, DMC=26.2, DC=94.3, ISI=5.1, temp=8.2, RH=51, wind=6.7, rain=0.0, area=0.0, month_num=2.0, month_vec=SparseVector(11, {2: 1.0}))"
            ]
          },
          "metadata": {
            "tags": []
          },
          "execution_count": 27
        }
      ]
    },
    {
      "cell_type": "markdown",
      "metadata": {
        "id": "lHcHaR0PwUDm",
        "colab_type": "text"
      },
      "source": [
        "Great, we now have a OneHotEncoded sparse vector in the `'month_vec'` column! Because Spark is optimized for big data, sparse vectors are used rather than entirely new columns for dummy variables because it is more space efficient. You can see in this first row of the DataFrame:  \n",
        "\n",
        "`month_vec=SparseVector(11, {2: 1.0})` this indicates that we have a sparse vector of size 11 (because of the parameter `dropLast = True` in `OneHotEncoderEstimator()`) and this particular data point is the 2nd index of our month labels (march, based off the labels in the `model` StringEstimator transformer).  \n",
        "\n",
        "The final requirement for all machine learning models in PySpark is to put all of the features of your model into one sparse vector. This is once again for efficiency sake. Here, we are doing that with the `VectorAssembler()` estimator."
      ]
    },
    {
      "cell_type": "code",
      "metadata": {
        "id": "Oz-IIm8fwUDm",
        "colab_type": "code",
        "colab": {}
      },
      "source": [
        "features = ['X',\n",
        " 'Y',\n",
        " 'FFMC',\n",
        " 'DMC',\n",
        " 'DC',\n",
        " 'ISI',\n",
        " 'temp',\n",
        " 'RH',\n",
        " 'wind',\n",
        " 'rain',\n",
        " 'month_vec']\n",
        "\n",
        "target = 'area'\n",
        "\n",
        "vector = VectorAssembler(inputCols=features, outputCol='features')\n",
        "vectorized_df = vector.transform(one_hot_encoded)"
      ],
      "execution_count": 0,
      "outputs": []
    },
    {
      "cell_type": "code",
      "metadata": {
        "id": "VpE2dHhwwUDo",
        "colab_type": "code",
        "colab": {
          "base_uri": "https://localhost:8080/",
          "height": 54
        },
        "outputId": "af29cc4b-6723-4121-e66b-f6061113ab88"
      },
      "source": [
        "vectorized_df.head()"
      ],
      "execution_count": 29,
      "outputs": [
        {
          "output_type": "execute_result",
          "data": {
            "text/plain": [
              "Row(X=7, Y=5, month='mar', FFMC=86.2, DMC=26.2, DC=94.3, ISI=5.1, temp=8.2, RH=51, wind=6.7, rain=0.0, area=0.0, month_num=2.0, month_vec=SparseVector(11, {2: 1.0}), features=SparseVector(21, {0: 7.0, 1: 5.0, 2: 86.2, 3: 26.2, 4: 94.3, 5: 5.1, 6: 8.2, 7: 51.0, 8: 6.7, 12: 1.0}))"
            ]
          },
          "metadata": {
            "tags": []
          },
          "execution_count": 29
        }
      ]
    },
    {
      "cell_type": "markdown",
      "metadata": {
        "id": "M3kZx7UywUDq",
        "colab_type": "text"
      },
      "source": [
        "Great! We now have our data in a format that seems acceptable for the last step. It's time for us to actually fit our model to data! Let's fit a Random Forest Regression model to our data. Although there are still a bunch of other features in the DataFrame, it doesn't matter for the machine learning model API. All that needs to be specified are the names of the features column and the label column. "
      ]
    },
    {
      "cell_type": "code",
      "metadata": {
        "id": "izxn6UrQwUDq",
        "colab_type": "code",
        "colab": {}
      },
      "source": [
        "## instantiating and fitting the model\n",
        "rf_model = RandomForestRegressor(featuresCol='features', \n",
        "                                 labelCol='area', predictionCol='prediction').fit(vectorized_df)"
      ],
      "execution_count": 0,
      "outputs": []
    },
    {
      "cell_type": "code",
      "metadata": {
        "id": "l-10DxrmwUDs",
        "colab_type": "code",
        "colab": {
          "base_uri": "https://localhost:8080/",
          "height": 54
        },
        "outputId": "9ac79c2a-d748-425a-9b0a-0a5a418bbb75"
      },
      "source": [
        "rf_model.featureImportances"
      ],
      "execution_count": 31,
      "outputs": [
        {
          "output_type": "execute_result",
          "data": {
            "text/plain": [
              "SparseVector(21, {0: 0.1029, 1: 0.0792, 2: 0.0712, 3: 0.1414, 4: 0.0809, 5: 0.0648, 6: 0.11, 7: 0.1856, 8: 0.121, 10: 0.0027, 11: 0.0274, 12: 0.0, 13: 0.0092, 14: 0.0, 15: 0.0025, 17: 0.0, 18: 0.0004, 20: 0.0008})"
            ]
          },
          "metadata": {
            "tags": []
          },
          "execution_count": 31
        }
      ]
    },
    {
      "cell_type": "code",
      "metadata": {
        "id": "CqylYokYwUDv",
        "colab_type": "code",
        "colab": {
          "base_uri": "https://localhost:8080/",
          "height": 187
        },
        "outputId": "882ea719-1971-48a8-e872-f3f1ef550d4d"
      },
      "source": [
        "## generating predictions\n",
        "predictions = rf_model.transform(vectorized_df).select('area', 'prediction')\n",
        "predictions.head(10)"
      ],
      "execution_count": 32,
      "outputs": [
        {
          "output_type": "execute_result",
          "data": {
            "text/plain": [
              "[Row(area=0.0, prediction=5.023868083724237),\n",
              " Row(area=0.0, prediction=9.422502984236637),\n",
              " Row(area=0.0, prediction=4.887210084645219),\n",
              " Row(area=0.0, prediction=9.798489829148398),\n",
              " Row(area=0.0, prediction=6.354207363651329),\n",
              " Row(area=0.0, prediction=6.5932636022379025),\n",
              " Row(area=0.0, prediction=5.439546025313552),\n",
              " Row(area=0.0, prediction=17.97521944943876),\n",
              " Row(area=0.0, prediction=7.976182494828028),\n",
              " Row(area=0.0, prediction=5.517725922025205)]"
            ]
          },
          "metadata": {
            "tags": []
          },
          "execution_count": 32
        }
      ]
    },
    {
      "cell_type": "markdown",
      "metadata": {
        "id": "xA60v-1CwUDx",
        "colab_type": "text"
      },
      "source": [
        "Now we can evaluate how well the model performed using `RegressionEvaluator`."
      ]
    },
    {
      "cell_type": "code",
      "metadata": {
        "id": "_sztndKbwUDx",
        "colab_type": "code",
        "colab": {}
      },
      "source": [
        "from pyspark.ml.evaluation import RegressionEvaluator\n",
        "evaluator = RegressionEvaluator(predictionCol='prediction', labelCol='area')"
      ],
      "execution_count": 0,
      "outputs": []
    },
    {
      "cell_type": "code",
      "metadata": {
        "id": "o2tLWB_-wUDz",
        "colab_type": "code",
        "colab": {
          "base_uri": "https://localhost:8080/",
          "height": 34
        },
        "outputId": "6ec09222-726d-45bb-a805-89e8056fd12b"
      },
      "source": [
        "## evaluating r^2\n",
        "evaluator.evaluate(predictions,{evaluator.metricName: 'r2'})"
      ],
      "execution_count": 34,
      "outputs": [
        {
          "output_type": "execute_result",
          "data": {
            "text/plain": [
              "0.6069146530319705"
            ]
          },
          "metadata": {
            "tags": []
          },
          "execution_count": 34
        }
      ]
    },
    {
      "cell_type": "code",
      "metadata": {
        "id": "pq6DIM7RwUD1",
        "colab_type": "code",
        "colab": {
          "base_uri": "https://localhost:8080/",
          "height": 34
        },
        "outputId": "505b6570-1554-436e-8c57-ab0322c5b748"
      },
      "source": [
        "## evaluating mean absolute error\n",
        "evaluator.evaluate(predictions,{evaluator.metricName: 'mae'})"
      ],
      "execution_count": 35,
      "outputs": [
        {
          "output_type": "execute_result",
          "data": {
            "text/plain": [
              "13.340463967154244"
            ]
          },
          "metadata": {
            "tags": []
          },
          "execution_count": 35
        }
      ]
    },
    {
      "cell_type": "markdown",
      "metadata": {
        "id": "YmRhaSv-wUD3",
        "colab_type": "text"
      },
      "source": [
        "## Putting it all in a Pipeline\n",
        "\n",
        "We just performed a whole lot of transformations to our data. Let's take a look at all the estimators we used to create this model:\n",
        "\n",
        "* `StringIndexer()` \n",
        "* `OneHotEnconderEstimator()` \n",
        "* `VectorAssembler()` \n",
        "* `RandomForestRegressor()` \n",
        "\n",
        "Once we've fit our model in the Pipeline, we're then going to want to evaluate it to determine how well it performs. We can do this with:\n",
        "\n",
        "* `RegressionEvaluator()` \n",
        "\n",
        "We can streamline all of these transformations to make it much more efficient by chaining them together in a pipeline. The Pipeline object expects a list of the estimators prior set to the parameter `stages`."
      ]
    },
    {
      "cell_type": "code",
      "metadata": {
        "id": "qqsqiOEXwUD4",
        "colab_type": "code",
        "colab": {}
      },
      "source": [
        "# importing relevant libraries\n",
        "from pyspark.ml.tuning import ParamGridBuilder, TrainValidationSplit, CrossValidator\n",
        "from pyspark.ml import Pipeline"
      ],
      "execution_count": 0,
      "outputs": []
    },
    {
      "cell_type": "code",
      "metadata": {
        "id": "WsIfxTSZwUD6",
        "colab_type": "code",
        "colab": {}
      },
      "source": [
        "## instantiating all necessary estimator objects\n",
        "\n",
        "string_indexer = StringIndexer(inputCol='month', outputCol='month_num', handleInvalid='keep')\n",
        "one_hot_encoder = OneHotEncoderEstimator(inputCols=['month_num'], outputCols=['month_vec'], dropLast=True)\n",
        "vector_assember = VectorAssembler(inputCols=features, outputCol='features')\n",
        "random_forest = RandomForestRegressor(featuresCol='features', labelCol='area')\n",
        "stages = [string_indexer, one_hot_encoder, vector_assember, random_forest]\n",
        "\n",
        "# instantiating the pipeline with all them estimator objects\n",
        "pipeline = Pipeline(stages=stages)"
      ],
      "execution_count": 0,
      "outputs": []
    },
    {
      "cell_type": "markdown",
      "metadata": {
        "id": "q9f_pYQpwUD8",
        "colab_type": "text"
      },
      "source": [
        "### Cross-validation \n",
        "\n",
        "You might have missed a critical step in the random forest regression above; we did not cross validate or perform a train/test split! Now we're going to fix that by performing cross-validation and also testing out multiple different combinations of parameters in PySpark's `GridSearch()` equivalent. To begin with, we will create a parameter grid that contains the different parameters we want to use in our model."
      ]
    },
    {
      "cell_type": "code",
      "metadata": {
        "id": "l9VJJDwvwUD8",
        "colab_type": "code",
        "colab": {}
      },
      "source": [
        "# creating parameter grid\n",
        "\n",
        "params = ParamGridBuilder().addGrid(random_forest.maxDepth, [5, 10, 15]).addGrid(random_forest.numTrees, [20 ,50, 100]).build()"
      ],
      "execution_count": 0,
      "outputs": []
    },
    {
      "cell_type": "markdown",
      "metadata": {
        "id": "FOALQTxJwUEA",
        "colab_type": "text"
      },
      "source": [
        "Let's take a look at the params variable we just built."
      ]
    },
    {
      "cell_type": "code",
      "metadata": {
        "id": "CfYbyaz5wUEA",
        "colab_type": "code",
        "colab": {
          "base_uri": "https://localhost:8080/",
          "height": 88
        },
        "outputId": "e824c6b2-5b13-4b56-a9a0-ab370e31a017"
      },
      "source": [
        "print('total combinations of parameters: ', len(params))\n",
        "\n",
        "params[0]"
      ],
      "execution_count": 48,
      "outputs": [
        {
          "output_type": "stream",
          "text": [
            "total combinations of parameters:  9\n"
          ],
          "name": "stdout"
        },
        {
          "output_type": "execute_result",
          "data": {
            "text/plain": [
              "{Param(parent='RandomForestRegressor_4ca1df8c0551', name='maxDepth', doc='Maximum depth of the tree. (>= 0) E.g., depth 0 means 1 leaf node; depth 1 means 1 internal node + 2 leaf nodes.'): 5,\n",
              " Param(parent='RandomForestRegressor_4ca1df8c0551', name='numTrees', doc='Number of trees to train (>= 1).'): 20}"
            ]
          },
          "metadata": {
            "tags": []
          },
          "execution_count": 48
        }
      ]
    },
    {
      "cell_type": "markdown",
      "metadata": {
        "id": "hnqNX69fwUED",
        "colab_type": "text"
      },
      "source": [
        "Now it's time to combine all the steps we've created to work in a single line of code with the `CrossValidator()` estimator."
      ]
    },
    {
      "cell_type": "code",
      "metadata": {
        "id": "UslUH0BLwUED",
        "colab_type": "code",
        "colab": {}
      },
      "source": [
        "## instantiating the evaluator by which we will measure our model's performance\n",
        "reg_evaluator = RegressionEvaluator(predictionCol='prediction', labelCol='area', metricName = 'mae')\n",
        "\n",
        "## instantiating crossvalidator estimator\n",
        "cv = CrossValidator(estimator=pipeline, estimatorParamMaps=params, evaluator=reg_evaluator, parallelism=4)"
      ],
      "execution_count": 0,
      "outputs": []
    },
    {
      "cell_type": "code",
      "metadata": {
        "id": "LO7mc94KwUEF",
        "colab_type": "code",
        "colab": {}
      },
      "source": [
        "## fitting crossvalidator\n",
        "cross_validated_model = cv.fit(fire_df)"
      ],
      "execution_count": 0,
      "outputs": []
    },
    {
      "cell_type": "markdown",
      "metadata": {
        "id": "RvsAB5rFwUEH",
        "colab_type": "text"
      },
      "source": [
        "Now, let's see how well the model performed! Let's take a look at the average performance for each one of our 9 models. It looks like the optimal performance is an MAE around 23. Note that this is worse than our original model, but that's because our original model had substantial data leakage. We didn't do a train-test split!"
      ]
    },
    {
      "cell_type": "code",
      "metadata": {
        "scrolled": true,
        "id": "qeMZza_qwUEI",
        "colab_type": "code",
        "colab": {
          "base_uri": "https://localhost:8080/",
          "height": 170
        },
        "outputId": "025fe202-d2d6-4a64-d2d4-3f9ec25e8e56"
      },
      "source": [
        "cross_validated_model.avgMetrics"
      ],
      "execution_count": 51,
      "outputs": [
        {
          "output_type": "execute_result",
          "data": {
            "text/plain": [
              "[21.124074581055126,\n",
              " 19.964725432442673,\n",
              " 20.162337840796624,\n",
              " 22.048090298136252,\n",
              " 20.834887349437935,\n",
              " 20.947935683710437,\n",
              " 22.20250700410496,\n",
              " 20.9398617219383,\n",
              " 21.029063096154843]"
            ]
          },
          "metadata": {
            "tags": []
          },
          "execution_count": 51
        }
      ]
    },
    {
      "cell_type": "markdown",
      "metadata": {
        "id": "F8e6IfSzwUEK",
        "colab_type": "text"
      },
      "source": [
        "Now, let's take a look at the optimal parameters of our best performing model. The `cross_validated_model` variable is now saved as the best performing model from the grid search just performed. Let's look to see how well the predictions performed. As you can see, this dataset has a large number of areas of \"0.0\" burned. Perhaps, it would be better to investigate this problem as a classification task."
      ]
    },
    {
      "cell_type": "code",
      "metadata": {
        "id": "o5WRd3jdwUEL",
        "colab_type": "code",
        "colab": {
          "base_uri": "https://localhost:8080/",
          "height": 1000
        },
        "outputId": "24b78557-053c-470c-c004-d34d32cf682b"
      },
      "source": [
        "predictions = cross_validated_model.transform(spark_df)\n",
        "predictions.select('prediction', 'area').show(300)"
      ],
      "execution_count": 52,
      "outputs": [
        {
          "output_type": "stream",
          "text": [
            "+------------------+-------+\n",
            "|        prediction|   area|\n",
            "+------------------+-------+\n",
            "|5.8020055091901135|    0.0|\n",
            "| 5.511179264241813|    0.0|\n",
            "| 5.838476705825078|    0.0|\n",
            "| 6.253408826125218|    0.0|\n",
            "|  6.71706816699304|    0.0|\n",
            "| 7.858081652102447|    0.0|\n",
            "|20.329129102828816|    0.0|\n",
            "| 6.847450802535226|    0.0|\n",
            "| 8.131255515830562|    0.0|\n",
            "| 8.247473331283128|    0.0|\n",
            "| 6.522793404856032|    0.0|\n",
            "| 5.954915839404045|    0.0|\n",
            "| 6.430488057787793|    0.0|\n",
            "|12.237869726715026|    0.0|\n",
            "| 49.24207060690161|    0.0|\n",
            "| 6.669520925317074|    0.0|\n",
            "| 5.080226520318613|    0.0|\n",
            "| 5.898166594810623|    0.0|\n",
            "| 5.469996776307711|    0.0|\n",
            "| 4.788899224221149|    0.0|\n",
            "| 14.89317730201009|    0.0|\n",
            "| 5.118767844472171|    0.0|\n",
            "| 9.781251377067873|    0.0|\n",
            "| 8.069300557504503|    0.0|\n",
            "| 11.50993953763562|    0.0|\n",
            "| 5.754559842128937|    0.0|\n",
            "| 7.531170805235661|    0.0|\n",
            "| 10.59039393577908|    0.0|\n",
            "|13.701909086418013|    0.0|\n",
            "| 10.88647667502454|    0.0|\n",
            "| 8.835577252179428|    0.0|\n",
            "| 6.638409418430188|    0.0|\n",
            "| 5.986600780187212|    0.0|\n",
            "| 5.812672889428349|    0.0|\n",
            "| 5.433754392608199|    0.0|\n",
            "| 5.583399371428305|    0.0|\n",
            "| 6.795615286643534|    0.0|\n",
            "| 5.470572028934214|    0.0|\n",
            "| 6.427856724752753|    0.0|\n",
            "|  4.53140260182325|    0.0|\n",
            "|13.873777542767593|    0.0|\n",
            "| 4.324032320625921|    0.0|\n",
            "|  4.79867154957705|    0.0|\n",
            "| 5.689189407372981|    0.0|\n",
            "| 6.025918543135183|    0.0|\n",
            "| 66.75697040860467|    0.0|\n",
            "| 6.651258254840371|    0.0|\n",
            "|  8.11856919120819|    0.0|\n",
            "| 4.668379275942296|    0.0|\n",
            "|  5.99253709194265|    0.0|\n",
            "|14.129615142716872|    0.0|\n",
            "| 5.837328233814715|    0.0|\n",
            "| 4.809549093640877|    0.0|\n",
            "| 4.809549093640877|    0.0|\n",
            "| 5.484898493297514|    0.0|\n",
            "|10.521434115295754|    0.0|\n",
            "| 6.497591058663923|    0.0|\n",
            "|  6.27482425603911|    0.0|\n",
            "| 9.326056462612048|    0.0|\n",
            "| 6.223106030404442|    0.0|\n",
            "| 5.162446331607851|    0.0|\n",
            "| 5.471009008699506|    0.0|\n",
            "| 5.690643615118355|    0.0|\n",
            "|   6.1860327227614|    0.0|\n",
            "| 4.702805997602832|    0.0|\n",
            "|11.403196979953945|    0.0|\n",
            "| 7.912362036517757|    0.0|\n",
            "| 7.975123904078453|    0.0|\n",
            "|  7.26422161716459|    0.0|\n",
            "| 5.298351049983303|    0.0|\n",
            "| 6.299942844606586|    0.0|\n",
            "| 5.400399856730964|    0.0|\n",
            "| 4.588215886526354|    0.0|\n",
            "| 5.626191692560747|    0.0|\n",
            "|7.6792046242177685|    0.0|\n",
            "| 9.597238813055535|    0.0|\n",
            "| 8.913018701932726|    0.0|\n",
            "| 6.845970681432591|    0.0|\n",
            "|  5.18163755505459|    0.0|\n",
            "|15.206378722676268|    0.0|\n",
            "| 6.090072071657337|    0.0|\n",
            "| 6.132333138651885|    0.0|\n",
            "|11.841424887958626|    0.0|\n",
            "| 6.643717222064063|    0.0|\n",
            "| 9.622500856683033|    0.0|\n",
            "|16.514217758233286|    0.0|\n",
            "| 7.841816858148993|    0.0|\n",
            "|15.825560218896443|    0.0|\n",
            "|12.482362237539228|    0.0|\n",
            "|6.1239867225377616|    0.0|\n",
            "|5.7892247558142405|    0.0|\n",
            "|  5.76303374293546|    0.0|\n",
            "|14.465527789663302|    0.0|\n",
            "|12.084693915602292|    0.0|\n",
            "|22.491701830246615|    0.0|\n",
            "| 5.323274648427982|    0.0|\n",
            "| 5.148661586978821|    0.0|\n",
            "| 4.337136046367954|    0.0|\n",
            "| 5.321125051352042|    0.0|\n",
            "| 6.247532555709584|    0.0|\n",
            "| 6.247532555709584|    0.0|\n",
            "| 6.002258205791447|    0.0|\n",
            "|4.8764111738608475|    0.0|\n",
            "| 16.80248512140221|    0.0|\n",
            "|5.8709919456304736|    0.0|\n",
            "| 5.076063101746928|    0.0|\n",
            "| 4.932294787728797|    0.0|\n",
            "|5.2718130672707835|    0.0|\n",
            "| 5.710246712673169|    0.0|\n",
            "|   6.2300737759976|    0.0|\n",
            "| 4.710444070263591|    0.0|\n",
            "|  4.02738903648856|    0.0|\n",
            "|   5.4862177469362|    0.0|\n",
            "| 5.023824893395052|    0.0|\n",
            "| 5.915926497397252|    0.0|\n",
            "| 5.387611217274099|    0.0|\n",
            "| 4.601289511469325|    0.0|\n",
            "|4.7600673620565015|    0.0|\n",
            "| 4.796487612718419|    0.0|\n",
            "| 5.009839013728788|    0.0|\n",
            "| 5.287953090967665|    0.0|\n",
            "| 5.102554742049009|    0.0|\n",
            "| 8.651398746458018|    0.0|\n",
            "| 5.307454615208712|    0.0|\n",
            "| 4.852625991185691|    0.0|\n",
            "|  8.04086387128024|    0.0|\n",
            "|  4.38010639308595|    0.0|\n",
            "| 9.499695548521023|    0.0|\n",
            "| 6.646799092890401|    0.0|\n",
            "|10.082730689250093|    0.0|\n",
            "|  4.62379760264464|    0.0|\n",
            "| 4.261875775946288|    0.0|\n",
            "| 4.953232028818194|    0.0|\n",
            "| 6.501587556071098|    0.0|\n",
            "| 3.802120485290774|    0.0|\n",
            "| 7.122888819777826|    0.0|\n",
            "|10.032019690388475|    0.0|\n",
            "| 6.870320070282772|    0.0|\n",
            "|  6.57710946711902|   0.36|\n",
            "|15.445404578719856|   0.43|\n",
            "|10.287056731919384|   0.47|\n",
            "| 5.737828600473287|   0.55|\n",
            "|14.443655915798509|   0.61|\n",
            "| 9.286766814859499|   0.71|\n",
            "| 4.276695843741131|   0.77|\n",
            "|20.605006739327354|    0.9|\n",
            "| 4.770485524742222|   0.95|\n",
            "| 11.41088548323115|   0.96|\n",
            "| 7.607943260057603|   1.07|\n",
            "|  7.72406338744331|   1.12|\n",
            "| 32.36976493426114|   1.19|\n",
            "|10.713144256893374|   1.36|\n",
            "|10.079591069771313|   1.43|\n",
            "|5.1608748325946525|   1.46|\n",
            "|18.779442151489356|   1.46|\n",
            "| 4.704115684274136|   1.56|\n",
            "|10.598617072507801|   1.61|\n",
            "| 8.979251948775714|   1.63|\n",
            "| 5.024254781684081|   1.64|\n",
            "| 7.531170805235661|   1.69|\n",
            "|5.3498116424951085|   1.75|\n",
            "|6.9747971876921575|    1.9|\n",
            "| 7.089711316758527|   1.94|\n",
            "| 24.39639654774814|   1.95|\n",
            "| 5.896614437591609|   2.01|\n",
            "|  5.48260790244301|   2.14|\n",
            "| 4.382289420913731|   2.29|\n",
            "| 5.543487467367218|   2.51|\n",
            "|10.504969896432184|   2.53|\n",
            "|  9.69807528659063|   2.55|\n",
            "| 9.510728568040621|   2.57|\n",
            "| 5.839149454475667|   2.69|\n",
            "| 6.805251837554875|   2.74|\n",
            "| 8.008333085244098|   3.07|\n",
            "|4.1051448146667475|    3.5|\n",
            "| 4.291656365769609|   4.53|\n",
            "| 6.379095481415805|   4.61|\n",
            "|   5.5320723341097|   4.69|\n",
            "| 5.698900459503992|   4.88|\n",
            "| 8.647051679276643|   5.23|\n",
            "| 8.886446058072172|   5.33|\n",
            "| 5.893380161707732|   5.44|\n",
            "| 5.606645427218387|   6.38|\n",
            "| 9.748379178688499|   6.83|\n",
            "|17.159900075828226|   6.96|\n",
            "|12.774904314185049|   7.04|\n",
            "|10.614176578928616|   7.19|\n",
            "|14.351440748883418|    7.3|\n",
            "| 5.030225561831226|    7.4|\n",
            "| 5.994671092509531|   8.24|\n",
            "| 5.827476078000753|   8.31|\n",
            "| 8.494602458018246|   8.68|\n",
            "| 6.315845919821649|   8.71|\n",
            "| 33.94379910995338|   9.41|\n",
            "| 6.315845919821649|  10.01|\n",
            "| 5.580651005607774|  10.02|\n",
            "| 6.379095481415805|  10.93|\n",
            "|15.664213801041415|  11.06|\n",
            "| 7.076702359049216|  11.24|\n",
            "|12.711860808893029|  11.32|\n",
            "|15.529225772168623|  11.53|\n",
            "| 5.539389697799846|   12.1|\n",
            "| 6.337492657620188|  13.05|\n",
            "|  9.45626557620877|   13.7|\n",
            "| 5.750223062716383|  13.99|\n",
            "|  9.79932354382548|  14.57|\n",
            "| 9.763321990032413|  15.45|\n",
            "|13.058652051051721|   17.2|\n",
            "| 6.891600935823642|  19.23|\n",
            "| 9.995036067630428|  23.41|\n",
            "|11.137792371705498|  24.23|\n",
            "|13.704090768626234|   26.0|\n",
            "| 5.366528942078527|  26.13|\n",
            "|  7.79713553014351|  27.35|\n",
            "| 5.257387277903536|  28.66|\n",
            "| 5.257387277903536|  28.66|\n",
            "| 10.42011022822785|  29.48|\n",
            "| 9.038260940982727|  30.32|\n",
            "|21.646905400553024|  31.72|\n",
            "| 8.991065321065593|  31.86|\n",
            "|  6.73661335357692|  32.07|\n",
            "| 9.946960294009788|  35.88|\n",
            "| 7.487146889424862|  36.85|\n",
            "|  38.6299971899619|  37.02|\n",
            "| 6.541246828490452|  37.71|\n",
            "| 9.369245767819903|  48.55|\n",
            "|10.845379664787144|  49.37|\n",
            "| 13.37361625756424|   58.3|\n",
            "| 49.67470731088036|   64.1|\n",
            "|14.350025598748227|   71.3|\n",
            "|31.937962887629002|  88.49|\n",
            "| 34.69138932321853|  95.18|\n",
            "|18.630913193529786| 103.39|\n",
            "| 42.81371157645494| 105.66|\n",
            "| 160.0916743949503| 154.88|\n",
            "| 32.65476616624428| 196.48|\n",
            "| 63.78110021319476| 200.94|\n",
            "| 52.25567294748115| 212.88|\n",
            "| 750.4664568490183|1090.84|\n",
            "| 5.754686179856911|    0.0|\n",
            "| 5.052126945704841|    0.0|\n",
            "| 5.944726666427255|    0.0|\n",
            "| 5.317305221957998|  10.13|\n",
            "|10.332083317907113|    0.0|\n",
            "| 5.524458983652217|   2.87|\n",
            "| 34.82852918831199|   0.76|\n",
            "| 4.115628228934591|   0.09|\n",
            "| 4.587582154317874|   0.75|\n",
            "| 7.943843527778921|    0.0|\n",
            "| 6.021535560191902|   2.47|\n",
            "|10.645314737778717|   0.68|\n",
            "|7.3861976671291325|   0.24|\n",
            "|  5.48120799454607|   0.21|\n",
            "| 5.773153211502858|   1.52|\n",
            "| 7.791969409609582|  10.34|\n",
            "|10.777329450927699|    0.0|\n",
            "| 10.63865605944651|   8.02|\n",
            "| 5.993382423001302|   0.68|\n",
            "| 5.418101508775108|    0.0|\n",
            "| 7.526434107303204|   1.38|\n",
            "| 6.194172062098093|   8.85|\n",
            "| 5.123753290001117|    3.3|\n",
            "| 5.176507425903156|   4.25|\n",
            "|  7.79768869332018|   1.56|\n",
            "|  6.69462252409653|   6.54|\n",
            "| 5.918067284723764|   0.79|\n",
            "|  5.62273940011774|   0.17|\n",
            "| 9.019631681988502|    0.0|\n",
            "| 5.045235649372498|    0.0|\n",
            "| 5.158842656491114|    4.4|\n",
            "| 9.638319492008572|   0.52|\n",
            "| 8.461524881359022|   9.27|\n",
            "| 5.403268971208838|   3.09|\n",
            "| 8.042354003567674|   8.98|\n",
            "|11.666434078770562|  11.19|\n",
            "| 5.753473919898256|   5.38|\n",
            "|10.691418294375408|  17.85|\n",
            "| 9.811754442523558|  10.73|\n",
            "|10.691418294375408|  22.03|\n",
            "|10.691418294375408|   9.77|\n",
            "| 5.828373919898256|   9.27|\n",
            "|11.138331493409959|  24.77|\n",
            "|  6.02966189685131|    0.0|\n",
            "| 4.859707241316941|    1.1|\n",
            "| 7.422248432238555|  24.24|\n",
            "|13.573791605794028|    0.0|\n",
            "|12.405124006170333|    0.0|\n",
            "| 6.059934750042435|    0.0|\n",
            "| 5.667992928186444|    0.0|\n",
            "| 5.932975263700842|    0.0|\n",
            "| 5.188882192666292|    0.0|\n",
            "|15.812665320866058|    8.0|\n",
            "| 5.200793268812443|   2.64|\n",
            "|55.453275623670436|  86.45|\n",
            "| 6.939763674417597|   6.57|\n",
            "|10.800327798002275|    0.0|\n",
            "| 6.040726067823397|    0.9|\n",
            "| 5.831136086819373|    0.0|\n",
            "| 13.31015620226304|    0.0|\n",
            "| 5.125173210082254|    0.0|\n",
            "+------------------+-------+\n",
            "only showing top 300 rows\n",
            "\n"
          ],
          "name": "stdout"
        }
      ]
    },
    {
      "cell_type": "markdown",
      "metadata": {
        "id": "PrqyqZnRwUEM",
        "colab_type": "text"
      },
      "source": [
        "Now let's go ahead and take a look at the feature importances of our random forest model. In order to do this, we need to unroll our pipeline to access the random forest model. Let's start by first checking out the `.bestModel` attribute of our `cross_validated_model`. "
      ]
    },
    {
      "cell_type": "code",
      "metadata": {
        "id": "6rx2LXeowUEN",
        "colab_type": "code",
        "colab": {
          "base_uri": "https://localhost:8080/",
          "height": 34
        },
        "outputId": "12ce6fc8-680d-4d8c-ab33-3f7e3a8fd500"
      },
      "source": [
        "type(cross_validated_model.bestModel)"
      ],
      "execution_count": 53,
      "outputs": [
        {
          "output_type": "execute_result",
          "data": {
            "text/plain": [
              "pyspark.ml.pipeline.PipelineModel"
            ]
          },
          "metadata": {
            "tags": []
          },
          "execution_count": 53
        }
      ]
    },
    {
      "cell_type": "markdown",
      "metadata": {
        "id": "diiq83ijwUEP",
        "colab_type": "text"
      },
      "source": [
        "`ml` is treating the entire pipeline as the best performing model, so we need to go deeper into the pipeline to access the random forest model within it. Previously, we put the random forest model as the final \"stage\" in the stages variable list. Let's look at the `.stages` attribute of the `.bestModel`."
      ]
    },
    {
      "cell_type": "code",
      "metadata": {
        "id": "ZPmiswSHwUEP",
        "colab_type": "code",
        "colab": {
          "base_uri": "https://localhost:8080/",
          "height": 85
        },
        "outputId": "27ef7855-58d3-4c88-a6c4-b9c01c29c27e"
      },
      "source": [
        "cross_validated_model.bestModel.stages"
      ],
      "execution_count": 54,
      "outputs": [
        {
          "output_type": "execute_result",
          "data": {
            "text/plain": [
              "[StringIndexer_722c71e83f62,\n",
              " OneHotEncoderEstimator_686612857c8d,\n",
              " VectorAssembler_fea2a3eadef7,\n",
              " RandomForestRegressionModel (uid=RandomForestRegressor_4ca1df8c0551) with 50 trees]"
            ]
          },
          "metadata": {
            "tags": []
          },
          "execution_count": 54
        }
      ]
    },
    {
      "cell_type": "markdown",
      "metadata": {
        "id": "rov3kvMQwUER",
        "colab_type": "text"
      },
      "source": [
        "Perfect! There's the RandomForestRegressionModel, represented by the last item in the stages list. Now, we should be able to access all the attributes of the random forest regressor."
      ]
    },
    {
      "cell_type": "code",
      "metadata": {
        "id": "Gkk9YeP6wUER",
        "colab_type": "code",
        "colab": {}
      },
      "source": [
        "optimal_rf_model = cross_validated_model.bestModel.stages[3]"
      ],
      "execution_count": 0,
      "outputs": []
    },
    {
      "cell_type": "code",
      "metadata": {
        "id": "wN4B6OFkwUES",
        "colab_type": "code",
        "colab": {
          "base_uri": "https://localhost:8080/",
          "height": 54
        },
        "outputId": "e68546de-dd9c-41af-c809-c382315d45d7"
      },
      "source": [
        "optimal_rf_model.featureImportances"
      ],
      "execution_count": 56,
      "outputs": [
        {
          "output_type": "execute_result",
          "data": {
            "text/plain": [
              "SparseVector(22, {0: 0.0595, 1: 0.0832, 2: 0.1578, 3: 0.0669, 4: 0.1798, 5: 0.0582, 6: 0.1455, 7: 0.1101, 8: 0.0701, 10: 0.0149, 11: 0.0406, 12: 0.0001, 13: 0.0061, 14: 0.0, 15: 0.0002, 16: 0.0001, 17: 0.0054, 18: 0.0, 20: 0.0014})"
            ]
          },
          "metadata": {
            "tags": []
          },
          "execution_count": 56
        }
      ]
    },
    {
      "cell_type": "code",
      "metadata": {
        "id": "OT2LJrrswUEU",
        "colab_type": "code",
        "colab": {
          "base_uri": "https://localhost:8080/",
          "height": 34
        },
        "outputId": "d4758abb-30d4-4b5f-bca4-7f7945091b67"
      },
      "source": [
        "optimal_rf_model.getNumTrees"
      ],
      "execution_count": 57,
      "outputs": [
        {
          "output_type": "execute_result",
          "data": {
            "text/plain": [
              "50"
            ]
          },
          "metadata": {
            "tags": []
          },
          "execution_count": 57
        }
      ]
    },
    {
      "cell_type": "markdown",
      "metadata": {
        "id": "P9REe6pwwUEV",
        "colab_type": "text"
      },
      "source": [
        "## Summary\n",
        "\n",
        "In this lesson, you learned about PySpark's DataFrames, machine learning models, and pipelines. With the use of a pipeline, you can train a huge number of models simultaneously, saving you a substantial amount of time and effort. Up next, you will have a chance to build a PySpark machine learning pipeline of your own with a classification problem!"
      ]
    }
  ]
}